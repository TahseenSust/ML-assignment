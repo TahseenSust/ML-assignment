{
  "nbformat": 4,
  "nbformat_minor": 0,
  "metadata": {
    "colab": {
      "provenance": []
    },
    "kernelspec": {
      "name": "python3",
      "display_name": "Python 3"
    },
    "language_info": {
      "name": "python"
    }
  },
  "cells": [
    {
      "cell_type": "markdown",
      "source": [
        "### **Logistic Regression Intuition**"
      ],
      "metadata": {
        "id": "Qb9SWr0Tq0MS"
      }
    },
    {
      "cell_type": "code",
      "source": [
        "import numpy as np\n",
        "import matplotlib.pyplot as plt\n",
        "import copy\n",
        "import math\n",
        "from matplotlib.patches import FancyArrowPatch\n",
        "from ipywidgets import Output"
      ],
      "metadata": {
        "id": "3oNXGvtjhdP1"
      },
      "execution_count": 2,
      "outputs": []
    },
    {
      "cell_type": "code",
      "source": [
        "from google.colab import drive\n",
        "drive.mount('/content/drive')"
      ],
      "metadata": {
        "colab": {
          "base_uri": "https://localhost:8080/"
        },
        "id": "rixJkjj1cVSA",
        "outputId": "93c62c38-4f53-4ae7-a4e7-aeff070eea1d"
      },
      "execution_count": 3,
      "outputs": [
        {
          "output_type": "stream",
          "name": "stdout",
          "text": [
            "Mounted at /content/drive\n"
          ]
        }
      ]
    },
    {
      "cell_type": "code",
      "execution_count": 4,
      "metadata": {
        "id": "XC_lTr4Ug0y7"
      },
      "outputs": [],
      "source": [
        "X_train = np.array([[34.62365962451697,78.0246928153624]])  #(m,n)\n",
        "y_train = np.array([0])"
      ]
    },
    {
      "cell_type": "code",
      "source": [
        "f = open(\"/content/drive/MyDrive/Colab Notebooks/data.txt\", \"r\")\n",
        "flag = 0\n",
        "for x in f:\n",
        "  if flag == 0:\n",
        "    flag = 1\n",
        "    continue\n",
        "  numbers = np.array(x.split(','))\n",
        "  numbers = numbers.astype(float)\n",
        "  X_train = np.append(X_train, [[numbers[0],numbers[1]]],axis = 0)\n",
        "  y_train = np.append(y_train, numbers[2])"
      ],
      "metadata": {
        "id": "ouGqrPUPc4f8"
      },
      "execution_count": 5,
      "outputs": []
    },
    {
      "cell_type": "code",
      "source": [
        "def min_max_scale(x):\n",
        "  col_min = x.min(axis=0, keepdims=True).flatten()\n",
        "  col_denom = (x.max(axis=0, keepdims=True) - x.min(axis=0, keepdims=True)).flatten()\n",
        "  # print(col_denom)\n",
        "  # print(col_avg)\n",
        "\n",
        "  for i in range(len(x)):\n",
        "    x[i, 0] = (x[i, 0] - col_min[0]) / col_denom[0]\n",
        "    x[i, 1] = (x[i, 1] - col_min[1]) / col_denom[1]\n",
        "  \n",
        "  return x"
      ],
      "metadata": {
        "id": "87hsDDvZVgOz"
      },
      "execution_count": 6,
      "outputs": []
    },
    {
      "cell_type": "code",
      "source": [
        "X_train = min_max_scale(X_train)\n",
        "\n",
        "X_train"
      ],
      "metadata": {
        "colab": {
          "base_uri": "https://localhost:8080/"
        },
        "id": "z9bfUIc3Vh9t",
        "outputId": "a438bb90-ff6e-4f9b-cfed-34d12ce436a0"
      },
      "execution_count": 7,
      "outputs": [
        {
          "output_type": "execute_result",
          "data": {
            "text/plain": [
              "array([[0.06542784, 0.69465488],\n",
              "       [0.00326632, 0.19470455],\n",
              "       [0.08296784, 0.61961779],\n",
              "       [0.43176427, 0.81600135],\n",
              "       [0.7019434 , 0.65539214],\n",
              "       [0.2153456 , 0.37665959],\n",
              "       [0.44500891, 0.96545859],\n",
              "       [0.64449684, 0.23365526],\n",
              "       [0.65989108, 0.83229079],\n",
              "       [0.77934283, 0.18940757],\n",
              "       [0.94315096, 0.11165142],\n",
              "       [0.64433793, 0.        ],\n",
              "       [0.74887421, 0.67205614],\n",
              "       [0.56336978, 0.98314328],\n",
              "       [0.13586997, 0.6655353 ],\n",
              "       [0.34273413, 0.85846452],\n",
              "       [0.55914951, 0.32427783],\n",
              "       [0.5430494 , 0.23547989],\n",
              "       [0.58195856, 0.91295399],\n",
              "       [0.67250409, 0.24862534],\n",
              "       [0.53481039, 0.17922749],\n",
              "       [0.85450448, 0.51557164],\n",
              "       [0.29348214, 0.26737325],\n",
              "       [0.05952839, 0.19931197],\n",
              "       [0.68605319, 0.56205138],\n",
              "       [0.46169753, 0.57643769],\n",
              "       [0.71853306, 0.20827835],\n",
              "       [0.90377581, 0.12008007],\n",
              "       [0.45537943, 0.28788555],\n",
              "       [0.12508388, 0.50379883],\n",
              "       [0.44891644, 0.61823627],\n",
              "       [0.7932702 , 0.38743524],\n",
              "       [0.3160307 , 0.47643451],\n",
              "       [0.31513382, 0.56879704],\n",
              "       [0.14588236, 0.59421062],\n",
              "       [0.35225201, 0.31656415],\n",
              "       [0.05527778, 1.        ],\n",
              "       [0.48901588, 0.73689201],\n",
              "       [0.64112153, 0.16069675],\n",
              "       [0.05912103, 0.65382979],\n",
              "       [0.77174023, 0.37653763],\n",
              "       [0.3080005 , 0.23808317],\n",
              "       [0.92282407, 0.51219597],\n",
              "       [0.74975856, 0.14670505],\n",
              "       [0.30083445, 0.2229426 ],\n",
              "       [0.4610047 , 0.31432447],\n",
              "       [0.67557495, 0.58381678],\n",
              "       [0.97052763, 0.82214305],\n",
              "       [0.45886031, 0.9692291 ],\n",
              "       [0.88156804, 0.85097827],\n",
              "       [0.71501627, 0.63808845],\n",
              "       [0.99204044, 0.44525373],\n",
              "       [0.86697331, 0.18731589],\n",
              "       [0.06400678, 0.43642522],\n",
              "       [0.28992337, 0.28127072],\n",
              "       [0.27989286, 0.42782079],\n",
              "       [0.96872217, 0.56042851],\n",
              "       [0.03609592, 0.95208625],\n",
              "       [0.63337365, 0.57453504],\n",
              "       [0.59822584, 0.70093719],\n",
              "       [0.64981247, 0.80796493],\n",
              "       [0.07492278, 0.24048881],\n",
              "       [0.37545302, 0.12683016],\n",
              "       [0.        , 0.2781716 ],\n",
              "       [0.20939718, 0.52510375],\n",
              "       [0.52318442, 0.15364615],\n",
              "       [0.14904504, 0.98045518],\n",
              "       [0.27252406, 0.31172025],\n",
              "       [0.71981433, 0.90107289],\n",
              "       [0.52584783, 0.44514186],\n",
              "       [0.03818328, 0.18609378],\n",
              "       [0.48704268, 0.69475735],\n",
              "       [0.60610945, 0.96130085],\n",
              "       [0.43570996, 0.62244203],\n",
              "       [0.4125345 , 0.66292255],\n",
              "       [1.        , 0.6118109 ],\n",
              "       [0.24660577, 0.84774933],\n",
              "       [0.29238382, 0.66221079],\n",
              "       [0.43567657, 0.17439305],\n",
              "       [0.74772195, 0.17749077],\n",
              "       [0.84357013, 0.57423061],\n",
              "       [0.92843027, 0.22106181],\n",
              "       [0.53405404, 0.52714381],\n",
              "       [0.38956944, 0.42350432],\n",
              "       [0.72106391, 0.88414045],\n",
              "       [0.55052645, 0.8055387 ],\n",
              "       [0.17223446, 0.70666805],\n",
              "       [0.65098907, 0.87629456],\n",
              "       [0.69624872, 0.96745081],\n",
              "       [0.31947097, 0.44189151],\n",
              "       [0.91782133, 0.68197528],\n",
              "       [0.86556634, 0.83358311],\n",
              "       [0.36439287, 0.07276576],\n",
              "       [0.63687092, 0.79456445],\n",
              "       [0.8569272 , 0.21613956],\n",
              "       [0.76581739, 0.26040749],\n",
              "       [0.17490393, 0.82765132],\n",
              "       [0.99264933, 0.55916635],\n",
              "       [0.36235552, 0.50286509],\n",
              "       [0.64093004, 0.86318813]])"
            ]
          },
          "metadata": {},
          "execution_count": 7
        }
      ]
    },
    {
      "cell_type": "code",
      "source": [
        "type(X_train[0])"
      ],
      "metadata": {
        "colab": {
          "base_uri": "https://localhost:8080/"
        },
        "id": "hJh36yCRj0do",
        "outputId": "9d83421d-ab72-40c3-acfb-248a4ad01f32"
      },
      "execution_count": null,
      "outputs": [
        {
          "output_type": "execute_result",
          "data": {
            "text/plain": [
              "numpy.ndarray"
            ]
          },
          "metadata": {},
          "execution_count": 68
        }
      ]
    },
    {
      "cell_type": "code",
      "source": [
        "print(X_train.shape, y_train.shape)"
      ],
      "metadata": {
        "colab": {
          "base_uri": "https://localhost:8080/"
        },
        "id": "d8Px8fU1muW3",
        "outputId": "61345e86-f6e1-4b13-f769-519836d1d23d"
      },
      "execution_count": 8,
      "outputs": [
        {
          "output_type": "stream",
          "name": "stdout",
          "text": [
            "(100, 2) (100,)\n"
          ]
        }
      ]
    },
    {
      "cell_type": "code",
      "source": [
        "pos_label=\"y=1\"\n",
        "neg_label=\"y=0\"\n",
        "fig, ax = plt.subplots(1,1,figsize=(4,4))\n",
        "\n",
        "pos = y_train == 1\n",
        "neg = y_train == 0\n",
        "print(pos.shape)\n",
        "\n",
        "# Plot examples\n",
        "ax.scatter(X_train[pos, 0], X_train[pos, 1], marker='x', s=80, c = 'red', label=pos_label)\n",
        "ax.scatter(X_train[neg, 0], X_train[neg, 1], marker='o', s=80, label=neg_label, facecolors='none', edgecolors='#0096ff', lw=3)\n",
        "ax.legend(loc='best' )\n",
        "\n",
        "ax.figure.canvas.toolbar_visible = False\n",
        "ax.figure.canvas.header_visible = False\n",
        "ax.figure.canvas.footer_visible = False"
      ],
      "metadata": {
        "id": "N8B5xPjAg_pz",
        "colab": {
          "base_uri": "https://localhost:8080/",
          "height": 283
        },
        "outputId": "33686f33-82f9-4540-bc43-268890268915"
      },
      "execution_count": 10,
      "outputs": [
        {
          "output_type": "stream",
          "name": "stdout",
          "text": [
            "(100,)\n"
          ]
        },
        {
          "output_type": "display_data",
          "data": {
            "text/plain": [
              "<Figure size 288x288 with 1 Axes>"
            ],
            "image/png": "[encoded data removed]"
          },
          "metadata": {
            "needs_background": "light"
          }
        }
      ]
    },
    {
      "cell_type": "code",
      "source": [
        "def sigmoid(z):\n",
        "    z = np.clip( z, -500, 500 )           # protect against overflow\n",
        "    g = 1.0/(1.0+np.exp(-z))\n",
        "    return g"
      ],
      "metadata": {
        "id": "K2HMCPDSkUnz"
      },
      "execution_count": 11,
      "outputs": []
    },
    {
      "cell_type": "code",
      "source": [
        "def compute_cost_logistic(X, y, w, b):\n",
        "    \"\"\"\n",
        "    Computes cost\n",
        "\n",
        "    Args:\n",
        "      X (ndarray (m,n)): Data, m examples with n features\n",
        "      y (ndarray (m,)) : target values\n",
        "      w (ndarray (n,)) : model parameters  \n",
        "      b (scalar)       : model parameter\n",
        "      \n",
        "    Returns:\n",
        "      cost (scalar): cost\n",
        "    \"\"\"\n",
        "\n",
        "    m = X.shape[0]\n",
        "    cost = 0.0\n",
        "    for i in range(m):\n",
        "        z_i = np.dot(X[i],w) + b\n",
        "        f_wb_i = sigmoid(z_i)\n",
        "        cost +=  -y[i]*np.log(f_wb_i) - (1-y[i])*np.log(1-f_wb_i)\n",
        "             \n",
        "    cost = cost / m\n",
        "    return cost"
      ],
      "metadata": {
        "id": "ySyzbmRIkHYD"
      },
      "execution_count": 12,
      "outputs": []
    },
    {
      "cell_type": "code",
      "source": [
        "w_tmp = np.array([1,1])\n",
        "b_tmp = -3\n",
        "print(compute_cost_logistic(X_train, y_train, w_tmp, b_tmp))"
      ],
      "metadata": {
        "id": "ZrmI5JhMjBpi",
        "colab": {
          "base_uri": "https://localhost:8080/"
        },
        "outputId": "d94594f3-71dc-4165-c093-48e6480c4efd"
      },
      "execution_count": 13,
      "outputs": [
        {
          "output_type": "stream",
          "name": "stdout",
          "text": [
            "1.1735933224662098\n"
          ]
        }
      ]
    },
    {
      "cell_type": "code",
      "source": [
        "# Choose values between 0 and 6\n",
        "x0 = np.arange(0,6)\n",
        "\n",
        "# Plot the two decision boundaries\n",
        "print(x0)\n",
        "x1 = 1 - x0\n",
        "x1_other = 1.1 - x0\n",
        "\n",
        "fig,ax = plt.subplots(1, 1, figsize=(4,4))\n",
        "# Plot the decision boundary\n",
        "ax.plot(x0,x1, c='#0096ff', label=\"$b$=-3\")\n",
        "ax.plot(x0,x1_other, c='#FF40FF', label=\"$b$=-4\")\n",
        "ax.axis([0, 1, 0, 1])\n",
        "\n",
        "# Plot the original data\n",
        "\n",
        "ax.scatter(X_train[pos, 0], X_train[pos, 1], marker='x', s=80, c = 'red', label=pos_label)\n",
        "ax.scatter(X_train[neg, 0], X_train[neg, 1], marker='o', s=80, label=neg_label, facecolors='none', edgecolors='#0096ff', lw=3)\n",
        "ax.legend(loc='best' )\n",
        "\n",
        "ax.figure.canvas.toolbar_visible = False\n",
        "ax.figure.canvas.header_visible = False\n",
        "ax.figure.canvas.footer_visible = False\n",
        "\n",
        "ax.axis([0, 1, 0, 1])\n",
        "ax.set_ylabel('$x_1$', fontsize=12)\n",
        "ax.set_xlabel('$x_0$', fontsize=12)\n",
        "plt.legend(loc=\"upper right\")\n",
        "plt.title(\"Decision Boundary\")\n",
        "plt.show()"
      ],
      "metadata": {
        "id": "CPNIYUeWkoMi",
        "colab": {
          "base_uri": "https://localhost:8080/",
          "height": 316
        },
        "outputId": "01ccab5c-c9c1-4ceb-bba3-5c49a88e5f1d"
      },
      "execution_count": 21,
      "outputs": [
        {
          "output_type": "stream",
          "name": "stdout",
          "text": [
            "[0 1 2 3 4 5]\n"
          ]
        },
        {
          "output_type": "display_data",
          "data": {
            "text/plain": [
              "<Figure size 288x288 with 1 Axes>"
            ],
            "image/png": "[encoded data removed]"
          },
          "metadata": {
            "needs_background": "light"
          }
        }
      ]
    },
    {
      "cell_type": "code",
      "source": [
        "w_array1 = np.array([1,1])\n",
        "b_1 = -3\n",
        "w_array2 = np.array([1,1])\n",
        "b_2 = -4\n",
        "\n",
        "print(\"Cost for b = -3 : \", compute_cost_logistic(X_train, y_train, w_array1, b_1))\n",
        "print(\"Cost for b = -4 : \", compute_cost_logistic(X_train, y_train, w_array2, b_2))"
      ],
      "metadata": {
        "id": "KC3ztZ8tkwiK",
        "colab": {
          "base_uri": "https://localhost:8080/"
        },
        "outputId": "935e3f7b-434e-4a4d-855f-fbb14e357808"
      },
      "execution_count": 22,
      "outputs": [
        {
          "output_type": "stream",
          "name": "stdout",
          "text": [
            "Cost for b = -3 :  1.1735933224662098\n",
            "Cost for b = -4 :  1.6884698491272594\n"
          ]
        }
      ]
    },
    {
      "cell_type": "code",
      "source": [],
      "metadata": {
        "id": "IiF9Lx1WqtTT"
      },
      "execution_count": null,
      "outputs": []
    },
    {
      "cell_type": "markdown",
      "source": [
        "### **Gradient Descent**"
      ],
      "metadata": {
        "id": "lrSooZM3rA6j"
      }
    },
    {
      "cell_type": "code",
      "source": [
        "def compute_gradient_logistic(X, y, w, b): \n",
        "    \"\"\"\n",
        "    Computes the gradient for linear regression \n",
        " \n",
        "    Args:\n",
        "      X (ndarray (m,n): Data, m examples with n features\n",
        "      y (ndarray (m,)): target values\n",
        "      w (ndarray (n,)): model parameters  \n",
        "      b (scalar)      : model parameter\n",
        "    Returns\n",
        "      dj_dw (ndarray (n,)): The gradient of the cost w.r.t. the parameters w. \n",
        "      dj_db (scalar)      : The gradient of the cost w.r.t. the parameter b. \n",
        "    \"\"\"\n",
        "    m,n = X.shape\n",
        "    # print(m,n)\n",
        "    dj_dw = np.zeros((n,))                           #(n,)\n",
        "    dj_db = 0.\n",
        "\n",
        "    for i in range(m):\n",
        "        f_wb_i = sigmoid(np.dot(X[i],w) + b)          #(n,)(n,)=scalar\n",
        "        err_i  = f_wb_i  - y[i]                       #scalar\n",
        "        for j in range(n):\n",
        "            dj_dw[j] = dj_dw[j] + err_i * X[i,j]      #scalar\n",
        "        dj_db = dj_db + err_i\n",
        "    dj_dw = dj_dw/m                                   #(n,)\n",
        "    dj_db = dj_db/m                                   #scalar\n",
        "        \n",
        "    return dj_db, dj_dw"
      ],
      "metadata": {
        "id": "viKhciCfrEhY"
      },
      "execution_count": 23,
      "outputs": []
    },
    {
      "cell_type": "code",
      "source": [
        "def gradient_descent(X, y, w_in, b_in, alpha, num_iters): \n",
        "    \"\"\"\n",
        "    Performs batch gradient descent\n",
        "    \n",
        "    Args:\n",
        "      X (ndarray (m,n)   : Data, m examples with n features\n",
        "      y (ndarray (m,))   : target values\n",
        "      w_in (ndarray (n,)): Initial values of model parameters  \n",
        "      b_in (scalar)      : Initial values of model parameter\n",
        "      alpha (float)      : Learning rate\n",
        "      num_iters (scalar) : number of iterations to run gradient descent\n",
        "      \n",
        "    Returns:\n",
        "      w (ndarray (n,))   : Updated values of parameters\n",
        "      b (scalar)         : Updated value of parameter \n",
        "    \"\"\"\n",
        "    # An array to store cost J and w's at each iteration primarily for graphing later\n",
        "    J_history = []\n",
        "    w = copy.deepcopy(w_in)  #avoid modifying global w within function\n",
        "    b = b_in\n",
        "    \n",
        "    for i in range(num_iters):\n",
        "        # Calculate the gradient and update the parameters\n",
        "        dj_db, dj_dw = compute_gradient_logistic(X, y, w, b)   \n",
        "\n",
        "        # Update Parameters using w, b, alpha and gradient\n",
        "        w = w - alpha * dj_dw               \n",
        "        b = b - alpha * dj_db               \n",
        "      \n",
        "        # Save cost J at each iteration\n",
        "        if i<100000:      # prevent resource exhaustion \n",
        "            J_history.append( compute_cost_logistic(X, y, w, b) )\n",
        "\n",
        "        # Print cost every at intervals 10 times or as many iterations if < 10\n",
        "        if i% math.ceil(num_iters / 10) == 0:\n",
        "            print(f\"Iteration {i:4d}: Cost {J_history[-1]}   \")\n",
        "        \n",
        "    return w, b, J_history         #return final w,b and J history for graphing"
      ],
      "metadata": {
        "id": "XNFbKCYJCnHK"
      },
      "execution_count": 24,
      "outputs": []
    },
    {
      "cell_type": "code",
      "source": [
        "w_tmp  = np.zeros_like(X_train[0])\n",
        "b_tmp  = 0.\n",
        "alph = 0.1\n",
        "iters = 10000\n",
        "\n",
        "w_out, b_out, _ = gradient_descent(X_train, y_train, w_tmp, b_tmp, alph, iters) \n",
        "print(f\"\\nupdated parameters: w:{w_out}, b:{b_out}\")"
      ],
      "metadata": {
        "id": "RNmxGIgGCyky",
        "colab": {
          "base_uri": "https://localhost:8080/"
        },
        "outputId": "d15888ab-c7ab-4315-9203-b535571fd81c"
      },
      "execution_count": 25,
      "outputs": [
        {
          "output_type": "stream",
          "name": "stdout",
          "text": [
            "Iteration    0: Cost 0.6891063308247324   \n",
            "Iteration 1000: Cost 0.37121531228885346   \n",
            "Iteration 2000: Cost 0.3036270616947014   \n",
            "Iteration 3000: Cost 0.27349804277227735   \n",
            "Iteration 4000: Cost 0.2563041438151084   \n",
            "Iteration 5000: Cost 0.24515572256378057   \n",
            "Iteration 6000: Cost 0.23734569208758793   \n",
            "Iteration 7000: Cost 0.23158389570294344   \n",
            "Iteration 8000: Cost 0.2271731157852497   \n",
            "Iteration 9000: Cost 0.22370172405872357   \n",
            "\n",
            "updated parameters: w:[9.34700661 8.76650439], b:-8.185799512531101\n"
          ]
        }
      ]
    },
    {
      "cell_type": "code",
      "source": [
        "fig,ax = plt.subplots(1,1,figsize=(10,10))\n",
        "\n",
        "# Plot the original data\n",
        "# ax.set_ylabel(r'$x_1$')\n",
        "# ax.set_xlabel(r'$x_0$')   \n",
        "# ax.axis([0, 4, 0, 3.5])\n",
        "\n",
        "# Plot examples\n",
        "ax.scatter(X_train[pos, 0], X_train[pos, 1], marker='x', s=80, c = 'red', label=pos_label)\n",
        "ax.scatter(X_train[neg, 0], X_train[neg, 1], marker='o', s=80, label=neg_label, facecolors='none', edgecolors='#0096ff', lw=3)\n",
        "ax.legend(loc='best' )\n",
        "\n",
        "ax.figure.canvas.toolbar_visible = False\n",
        "ax.figure.canvas.header_visible = False\n",
        "ax.figure.canvas.footer_visible = False\n",
        "\n",
        "# Plot the decision boundary\n",
        "x0 = -b_out/w_out[0]\n",
        "x1 = -b_out/w_out[1]\n",
        "ax.plot([0,x0],[x1,0], c='#0096ff', lw=1)\n",
        "plt.show()"
      ],
      "metadata": {
        "id": "ATEsTvP3C4ZZ",
        "colab": {
          "base_uri": "https://localhost:8080/",
          "height": 592
        },
        "outputId": "d9881d50-c6d3-465a-d424-657115a293db"
      },
      "execution_count": 30,
      "outputs": [
        {
          "output_type": "display_data",
          "data": {
            "text/plain": [
              "<Figure size 720x720 with 1 Axes>"
            ],
            "image/png": "[encoded data removed]"
          },
          "metadata": {
            "needs_background": "light"
          }
        }
      ]
    },
    {
      "cell_type": "code",
      "source": [],
      "metadata": {
        "id": "q0hOTsynDQDu"
      },
      "execution_count": 30,
      "outputs": []
    }
  ]
}
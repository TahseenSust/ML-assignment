{
  "nbformat": 4,
  "nbformat_minor": 0,
  "metadata": {
    "colab": {
      "provenance": []
    },
    "kernelspec": {
      "name": "python3",
      "display_name": "Python 3"
    },
    "language_info": {
      "name": "python"
    }
  },
  "cells": [
    {
      "cell_type": "code",
      "execution_count": 17,
      "metadata": {
        "colab": {
          "base_uri": "https://localhost:8080/"
        },
        "id": "LkCipJF-F-wK",
        "outputId": "b0b164b8-682b-4816-b9db-fb4b9cfd229a"
      },
      "outputs": [
        {
          "output_type": "stream",
          "name": "stdout",
          "text": [
            "Drive already mounted at /content/drive; to attempt to forcibly remount, call drive.mount(\"/content/drive\", force_remount=True).\n"
          ]
        }
      ],
      "source": [
        "import pandas as pd\n",
        "import matplotlib.pyplot as plt\n",
        "import csv\n",
        "import numpy as np\n",
        "import seaborn as sns\n",
        "from google.colab import drive\n",
        "drive.mount('/content/drive')"
      ]
    },
    {
      "cell_type": "code",
      "source": [
        "data_path = '/content/drive/MyDrive/Colab Notebooks/Copy of data2.txt'"
      ],
      "metadata": {
        "id": "--d7rlbMGyjX"
      },
      "execution_count": 18,
      "outputs": []
    },
    {
      "cell_type": "code",
      "source": [
        "data = pd.read_csv(data_path, header=None, names = [\"x1\",\"x2\",\"y\"])\n",
        "data.head()"
      ],
      "metadata": {
        "id": "_ET7Ev_8HF6L",
        "colab": {
          "base_uri": "https://localhost:8080/",
          "height": 206
        },
        "outputId": "968af7f5-35ac-4f6e-a338-8045479f0360"
      },
      "execution_count": 19,
      "outputs": [
        {
          "output_type": "execute_result",
          "data": {
            "text/plain": [
              "         x1       x2  y\n",
              "0  0.051267  0.69956  1\n",
              "1 -0.092742  0.68494  1\n",
              "2 -0.213710  0.69225  1\n",
              "3 -0.375000  0.50219  1\n",
              "4 -0.513250  0.46564  1"
            ],
            "text/html": [
              "\n",
              "  <div id=\"df-1dd178a7-d55d-424e-958c-68bacc54c610\">\n",
              "    <div class=\"colab-df-container\">\n",
              "      <div>\n",
              "<style scoped>\n",
              "    .dataframe tbody tr th:only-of-type {\n",
              "        vertical-align: middle;\n",
              "    }\n",
              "\n",
              "    .dataframe tbody tr th {\n",
              "        vertical-align: top;\n",
              "    }\n",
              "\n",
              "    .dataframe thead th {\n",
              "        text-align: right;\n",
              "    }\n",
              "</style>\n",
              "<table border=\"1\" class=\"dataframe\">\n",
              "  <thead>\n",
              "    <tr style=\"text-align: right;\">\n",
              "      <th></th>\n",
              "      <th>x1</th>\n",
              "      <th>x2</th>\n",
              "      <th>y</th>\n",
              "    </tr>\n",
              "  </thead>\n",
              "  <tbody>\n",
              "    <tr>\n",
              "      <th>0</th>\n",
              "      <td>0.051267</td>\n",
              "      <td>0.69956</td>\n",
              "      <td>1</td>\n",
              "    </tr>\n",
              "    <tr>\n",
              "      <th>1</th>\n",
              "      <td>-0.092742</td>\n",
              "      <td>0.68494</td>\n",
              "      <td>1</td>\n",
              "    </tr>\n",
              "    <tr>\n",
              "      <th>2</th>\n",
              "      <td>-0.213710</td>\n",
              "      <td>0.69225</td>\n",
              "      <td>1</td>\n",
              "    </tr>\n",
              "    <tr>\n",
              "      <th>3</th>\n",
              "      <td>-0.375000</td>\n",
              "      <td>0.50219</td>\n",
              "      <td>1</td>\n",
              "    </tr>\n",
              "    <tr>\n",
              "      <th>4</th>\n",
              "      <td>-0.513250</td>\n",
              "      <td>0.46564</td>\n",
              "      <td>1</td>\n",
              "    </tr>\n",
              "  </tbody>\n",
              "</table>\n",
              "</div>\n",
              "      <button class=\"colab-df-convert\" onclick=\"convertToInteractive('df-1dd178a7-d55d-424e-958c-68bacc54c610')\"\n",
              "              title=\"Convert this dataframe to an interactive table.\"\n",
              "              style=\"display:none;\">\n",
              "        \n",
              "  <svg xmlns=\"http://www.w3.org/2000/svg\" height=\"24px\"viewBox=\"0 0 24 24\"\n",
              "       width=\"24px\">\n",
              "    <path d=\"M0 0h24v24H0V0z\" fill=\"none\"/>\n",
              "    <path d=\"M18.56 5.44l.94 2.06.94-2.06 2.06-.94-2.06-.94-.94-2.06-.94 2.06-2.06.94zm-11 1L8.5 8.5l.94-2.06 2.06-.94-2.06-.94L8.5 2.5l-.94 2.06-2.06.94zm10 10l.94 2.06.94-2.06 2.06-.94-2.06-.94-.94-2.06-.94 2.06-2.06.94z\"/><path d=\"M17.41 7.96l-1.37-1.37c-.4-.4-.92-.59-1.43-.59-.52 0-1.04.2-1.43.59L10.3 9.45l-7.72 7.72c-.78.78-.78 2.05 0 2.83L4 21.41c.39.39.9.59 1.41.59.51 0 1.02-.2 1.41-.59l7.78-7.78 2.81-2.81c.8-.78.8-2.07 0-2.86zM5.41 20L4 18.59l7.72-7.72 1.47 1.35L5.41 20z\"/>\n",
              "  </svg>\n",
              "      </button>\n",
              "      \n",
              "  <style>\n",
              "    .colab-df-container {\n",
              "      display:flex;\n",
              "      flex-wrap:wrap;\n",
              "      gap: 12px;\n",
              "    }\n",
              "\n",
              "    .colab-df-convert {\n",
              "      background-color: #E8F0FE;\n",
              "      border: none;\n",
              "      border-radius: 50%;\n",
              "      cursor: pointer;\n",
              "      display: none;\n",
              "      fill: #1967D2;\n",
              "      height: 32px;\n",
              "      padding: 0 0 0 0;\n",
              "      width: 32px;\n",
              "    }\n",
              "\n",
              "    .colab-df-convert:hover {\n",
              "      background-color: #E2EBFA;\n",
              "      box-shadow: 0px 1px 2px rgba(60, 64, 67, 0.3), 0px 1px 3px 1px rgba(60, 64, 67, 0.15);\n",
              "      fill: #174EA6;\n",
              "    }\n",
              "\n",
              "    [theme=dark] .colab-df-convert {\n",
              "      background-color: #3B4455;\n",
              "      fill: #D2E3FC;\n",
              "    }\n",
              "\n",
              "    [theme=dark] .colab-df-convert:hover {\n",
              "      background-color: #434B5C;\n",
              "      box-shadow: 0px 1px 3px 1px rgba(0, 0, 0, 0.15);\n",
              "      filter: drop-shadow(0px 1px 2px rgba(0, 0, 0, 0.3));\n",
              "      fill: #FFFFFF;\n",
              "    }\n",
              "  </style>\n",
              "\n",
              "      <script>\n",
              "        const buttonEl =\n",
              "          document.querySelector('#df-1dd178a7-d55d-424e-958c-68bacc54c610 button.colab-df-convert');\n",
              "        buttonEl.style.display =\n",
              "          google.colab.kernel.accessAllowed ? 'block' : 'none';\n",
              "\n",
              "        async function convertToInteractive(key) {\n",
              "          const element = document.querySelector('#df-1dd178a7-d55d-424e-958c-68bacc54c610');\n",
              "          const dataTable =\n",
              "            await google.colab.kernel.invokeFunction('convertToInteractive',\n",
              "                                                     [key], {});\n",
              "          if (!dataTable) return;\n",
              "\n",
              "          const docLinkHtml = 'Like what you see? Visit the ' +\n",
              "            '<a target=\"_blank\" href=https://colab.research.google.com/notebooks/data_table.ipynb>data table notebook</a>'\n",
              "            + ' to learn more about interactive tables.';\n",
              "          element.innerHTML = '';\n",
              "          dataTable['output_type'] = 'display_data';\n",
              "          await google.colab.output.renderOutput(dataTable, element);\n",
              "          const docLink = document.createElement('div');\n",
              "          docLink.innerHTML = docLinkHtml;\n",
              "          element.appendChild(docLink);\n",
              "        }\n",
              "      </script>\n",
              "    </div>\n",
              "  </div>\n",
              "  "
            ]
          },
          "metadata": {},
          "execution_count": 19
        }
      ]
    },
    {
      "cell_type": "code",
      "source": [
        "def plotData(data, label_x, label_y, label_pos, label_neg, axes=None):\n",
        "    # Get indexes for class 0 and class 1\n",
        "    neg = data['y'] == 0\n",
        "    pos = data['y'] == 1\n",
        "    \n",
        "    # If no specific axes object has been passed, get the current axes.\n",
        "    if axes == None:\n",
        "        axes = plt.gca()\n",
        "    axes.scatter(data[pos]['x1'], data[pos]['x2'], marker='+', c='orange', s=60, linewidth=2, label=label_pos)\n",
        "    axes.scatter(data[neg]['x1'], data[neg]['x2'], c='blue', s=60, label=label_neg)\n",
        "    axes.set_xlabel(label_x)\n",
        "    axes.set_ylabel(label_y)\n",
        "    axes.legend(frameon= True, fancybox = True);"
      ],
      "metadata": {
        "id": "WQsM0IONHNWP"
      },
      "execution_count": 20,
      "outputs": []
    },
    {
      "cell_type": "code",
      "source": [
        "plotData(data, 'Microchip Test 1', 'Microchip Test 2', 'y = 1', 'y = 0')"
      ],
      "metadata": {
        "id": "mPAeH_KOHRru",
        "colab": {
          "base_uri": "https://localhost:8080/",
          "height": 279
        },
        "outputId": "0ec5b5d2-5319-4bb1-a38e-4f7027f6ee9a"
      },
      "execution_count": 21,
      "outputs": [
        {
          "output_type": "display_data",
          "data": {
            "text/plain": [
              "<Figure size 432x288 with 1 Axes>"
            ],
            "image/png": "[encoded data removed]"
          },
          "metadata": {
            "needs_background": "light"
          }
        }
      ]
    },
    {
      "cell_type": "code",
      "source": [
        "n = data.shape[1]-1\n",
        "x = data[data.columns[0:n]]\n",
        "\n",
        "y = data[data.columns[n:n+1]]\n",
        "# convert to np.array\n",
        "X = x.values\n",
        "y = y.values"
      ],
      "metadata": {
        "id": "v232jZmWHULu"
      },
      "execution_count": 22,
      "outputs": []
    },
    {
      "cell_type": "code",
      "source": [
        "def mapFeature( x1col, x2col):\n",
        "    degrees = 10\n",
        "    out = np.ones( (x1col.shape[0], 1) )\n",
        "\n",
        "    for i in range(1, degrees+1):\n",
        "        for j in range(0, i+1):\n",
        "            term1 = x1col ** (i-j)\n",
        "            term2 = x2col ** (j)\n",
        "            term  = (term1 * term2).reshape( term1.shape[0], 1 ) \n",
        "            out   = np.hstack(( out, term ))\n",
        "    return out"
      ],
      "metadata": {
        "id": "XgO2azaRdPCc"
      },
      "execution_count": 23,
      "outputs": []
    },
    {
      "cell_type": "code",
      "source": [
        "XX = mapFeature(X[:,0],X[:,1])\n",
        "print(X.shape, XX.shape)"
      ],
      "metadata": {
        "id": "4zmnrt28HZF3",
        "colab": {
          "base_uri": "https://localhost:8080/"
        },
        "outputId": "41473edc-f763-47be-9b76-1cf086402de1"
      },
      "execution_count": 24,
      "outputs": [
        {
          "output_type": "stream",
          "name": "stdout",
          "text": [
            "(118, 2) (118, 66)\n"
          ]
        }
      ]
    },
    {
      "cell_type": "code",
      "source": [
        "from scipy.special import expit #Vectorized sigmoid function\n",
        "\n",
        "#Hypothesis function and cost function for logistic regression\n",
        "def h(mytheta,myX): #Logistic hypothesis function\n",
        "    return expit(np.dot(myX,mytheta))"
      ],
      "metadata": {
        "id": "sxKJKwaKLP5G"
      },
      "execution_count": 25,
      "outputs": []
    },
    {
      "cell_type": "code",
      "source": [
        "\n",
        "#Cost function, default lambda (regularization) 0\n",
        "def computeCost(mytheta,myX,myy,mylambda = 0.): \n",
        "\n",
        "    m = myy.size # number of training examples\n",
        "\n",
        "    term1 = np.dot(-np.array(myy).T,np.log(h(mytheta,myX)))\n",
        "    term2 = np.dot((1-np.array(myy)).T,np.log(1-h(mytheta,myX)))\n",
        "    regterm = (mylambda/2) * np.sum(np.dot(mytheta[1:].T,mytheta[1:])) #Skip theta0\n",
        "    return float( (1./m) * ( np.sum(term1 - term2) + regterm ) )"
      ],
      "metadata": {
        "id": "pSqGpkkbHetr"
      },
      "execution_count": 26,
      "outputs": []
    },
    {
      "cell_type": "code",
      "source": [
        "def sigmoid(z):\n",
        "    z = np.clip( z, -500, 500 )           # protect against overflow\n",
        "    g = 1.0/(1.0+np.exp(-z))\n",
        "    return g"
      ],
      "metadata": {
        "id": "kqaUe3CuZ6h-"
      },
      "execution_count": 27,
      "outputs": []
    },
    {
      "cell_type": "code",
      "source": [
        "def compute_gradient_logistic(X, y, w):\n",
        "  m,n = X.shape\n",
        "  # print(m,n)\n",
        "  dj_dw = np.zeros((n,))\n",
        "\n",
        "  for i in range(m):\n",
        "    f_wb_i = sigmoid(np.dot(X[i], w))                           #(n,)(n,)=scalar\n",
        "    err_i  = f_wb_i  - y[i]                       #scalar\n",
        "    for j in range(n):\n",
        "      dj_dw[j] = dj_dw[j] + err_i * X[i,j]        #scalar\n",
        "  dj_dw = dj_dw/m                                   #(n,)\n",
        "      \n",
        "  return dj_dw"
      ],
      "metadata": {
        "id": "x68ON_W3Z-rx"
      },
      "execution_count": 28,
      "outputs": []
    },
    {
      "cell_type": "code",
      "source": [
        "import copy\n",
        "import math\n",
        "def optimizeRegularizedTheta(mytheta, myX, myy, alpha, num_iters, mylambda=0.):\n",
        "  m = myX.shape[0]\n",
        "  jHistory = []\n",
        "  w = copy.deepcopy(mytheta)\n",
        "\n",
        "  for i in range(num_iters):\n",
        "    dj_dw = compute_gradient_logistic(myX, myy, w)   \n",
        "\n",
        "    w = w*(1-alpha*(mylambda/m)) - alpha * dj_dw              \n",
        "  \n",
        "    if i<100000: \n",
        "        jHistory.append( computeCost(w, myX, myy, mylambda) )\n",
        "\n",
        "  return w, min(jHistory)"
      ],
      "metadata": {
        "id": "MzOZasKZaCkA"
      },
      "execution_count": 29,
      "outputs": []
    },
    {
      "cell_type": "code",
      "source": [
        "# from scipy import optimize\n",
        "# initial_theta = np.zeros((XX.shape[1],1))\n",
        "initial_theta = np.zeros(XX.shape[1])\n",
        "\n",
        "    \n",
        "theta, mincost = optimizeRegularizedTheta(initial_theta,XX,y, 0.1, 500)\n",
        "print(theta)\n",
        "print(mincost)"
      ],
      "metadata": {
        "id": "MiwC-euqIY9Q",
        "colab": {
          "base_uri": "https://localhost:8080/"
        },
        "outputId": "ea7660a0-73d3-4f0e-caed-3ae4f04bd8ab"
      },
      "execution_count": 30,
      "outputs": [
        {
          "output_type": "stream",
          "name": "stdout",
          "text": [
            "[ 8.29446560e-01  3.51777057e-01  8.49960307e-01 -1.31704763e+00\n",
            " -4.86244266e-01 -6.66428810e-01  4.80812324e-02 -2.20903158e-01\n",
            " -2.31560396e-01 -4.09958640e-02 -9.84957381e-01 -4.75157464e-02\n",
            " -3.92763173e-01 -1.43918550e-01 -6.66962333e-01 -1.71998747e-01\n",
            " -1.37693042e-01 -5.77540430e-02 -1.66863095e-01 -1.74789959e-01\n",
            " -2.77223075e-01 -7.09079996e-01  2.54188648e-04 -1.96666087e-01\n",
            " -3.79821958e-03 -2.07183771e-01 -7.41607751e-02 -5.70374848e-01\n",
            " -2.47161354e-01 -7.51020209e-02 -4.30064009e-02 -7.30318669e-02\n",
            " -3.35351425e-02 -1.12398277e-01 -1.10795191e-01 -3.46326563e-01\n",
            " -5.29526803e-01  6.31868700e-03 -1.07723960e-01  2.76142234e-04\n",
            " -8.47211288e-02  6.24618200e-05 -1.26952339e-01 -4.56412040e-02\n",
            " -4.94428358e-01 -2.61516512e-01 -4.40792649e-02 -3.34257808e-02\n",
            " -3.16556747e-02 -1.90738993e-02 -4.29965838e-02 -1.51116816e-02\n",
            " -7.97497192e-02 -6.97785641e-02 -3.67917187e-01 -4.12992909e-01\n",
            "  3.50766474e-03 -6.45396681e-02  5.26199991e-04 -3.90193901e-02\n",
            " -1.16735363e-03 -4.57246182e-02  2.28642988e-03 -8.59950562e-02\n",
            " -3.08492964e-02 -4.47398883e-01]\n",
            "0.5023115488030209\n"
          ]
        }
      ]
    },
    {
      "cell_type": "code",
      "source": [
        "def plotBoundary(mytheta, myX, myy, mylambda=0.):\n",
        "    \"\"\"\n",
        "    Function to plot the decision boundary for arbitrary theta, X, y, lambda value\n",
        "    Inside of this function is feature mapping, and the minimization routine.\n",
        "    It works by making a grid of x1 (\"xvals\") and x2 (\"yvals\") points,\n",
        "    And for each, computing whether the hypothesis classifies that point as\n",
        "    True or False. Then, a contour is drawn with a built-in pyplot function.\n",
        "    \"\"\"\n",
        "    alpha = .1\n",
        "    iters = 500\n",
        "    theta, mincost = optimizeRegularizedTheta(mytheta, myX, myy, alpha, iters, mylambda)\n",
        "    print(theta, '\\n\\nCost : ', mincost, '\\n \\n ')\n",
        "    xvals = np.linspace(-1,1.5,50)\n",
        "    yvals = np.linspace(-1,1.5,50)\n",
        "    zvals = np.zeros((len(xvals),len(yvals)))\n",
        "    for i in range(len(xvals)):\n",
        "        for j in range(len(yvals)):\n",
        "            myfeaturesij = mapFeature(np.array([xvals[i]]),np.array([yvals[j]]))\n",
        "            zvals[i][j] = np.dot(theta,myfeaturesij.T)\n",
        "            # print(type(zvals), zvals.shape)\n",
        "    zvals = zvals.transpose()\n",
        "\n",
        "    u, v = np.meshgrid( xvals, yvals )\n",
        "    mycontour = plt.contour( xvals, yvals, zvals, [0])\n",
        "    #Kind of a hacky way to display a text on top of the decision boundary\n",
        "    myfmt = { 0:'Lambda = %d'%mylambda}\n",
        "    plt.clabel(mycontour, inline=1, fontsize=15, fmt=myfmt)\n",
        "    plt.title(\"Decision Boundary\")"
      ],
      "metadata": {
        "id": "n3VQpykTQ1ip"
      },
      "execution_count": 31,
      "outputs": []
    },
    {
      "cell_type": "code",
      "source": [
        "plt.figure(figsize=(12,10))\n",
        "plt.subplot(221)\n",
        "plotData(data, 'Microchip Test 1', 'Microchip Test 2', 'y = 1', 'y = 0')\n",
        "plotBoundary(initial_theta, XX, y, 0.)\n",
        "\n",
        "plt.subplot(222)\n",
        "plotData(data, 'Microchip Test 1', 'Microchip Test 2', 'y = 1', 'y = 0')\n",
        "plotBoundary(initial_theta,XX,y,1.)\n",
        "\n",
        "plt.subplot(223)\n",
        "plotData(data, 'Microchip Test 1', 'Microchip Test 2', 'y = 1', 'y = 0')\n",
        "plotBoundary(initial_theta,XX,y,10.)\n",
        "\n",
        "plt.subplot(224)\n",
        "plotData(data, 'Microchip Test 1', 'Microchip Test 2', 'y = 1', 'y = 0')\n",
        "plotBoundary(initial_theta,XX,y,50.)"
      ],
      "metadata": {
        "id": "JJvTscBAUJjT",
        "colab": {
          "base_uri": "https://localhost:8080/",
          "height": 1000
        },
        "outputId": "f492ebb9-e212-4d55-cbb2-bf3a29c92347"
      },
      "execution_count": 32,
      "outputs": [
        {
          "output_type": "stream",
          "name": "stdout",
          "text": [
            "[ 8.29446560e-01  3.51777057e-01  8.49960307e-01 -1.31704763e+00\n",
            " -4.86244266e-01 -6.66428810e-01  4.80812324e-02 -2.20903158e-01\n",
            " -2.31560396e-01 -4.09958640e-02 -9.84957381e-01 -4.75157464e-02\n",
            " -3.92763173e-01 -1.43918550e-01 -6.66962333e-01 -1.71998747e-01\n",
            " -1.37693042e-01 -5.77540430e-02 -1.66863095e-01 -1.74789959e-01\n",
            " -2.77223075e-01 -7.09079996e-01  2.54188648e-04 -1.96666087e-01\n",
            " -3.79821958e-03 -2.07183771e-01 -7.41607751e-02 -5.70374848e-01\n",
            " -2.47161354e-01 -7.51020209e-02 -4.30064009e-02 -7.30318669e-02\n",
            " -3.35351425e-02 -1.12398277e-01 -1.10795191e-01 -3.46326563e-01\n",
            " -5.29526803e-01  6.31868700e-03 -1.07723960e-01  2.76142234e-04\n",
            " -8.47211288e-02  6.24618200e-05 -1.26952339e-01 -4.56412040e-02\n",
            " -4.94428358e-01 -2.61516512e-01 -4.40792649e-02 -3.34257808e-02\n",
            " -3.16556747e-02 -1.90738993e-02 -4.29965838e-02 -1.51116816e-02\n",
            " -7.97497192e-02 -6.97785641e-02 -3.67917187e-01 -4.12992909e-01\n",
            "  3.50766474e-03 -6.45396681e-02  5.26199991e-04 -3.90193901e-02\n",
            " -1.16735363e-03 -4.57246182e-02  2.28642988e-03 -8.59950562e-02\n",
            " -3.08492964e-02 -4.47398883e-01] \n",
            "\n",
            "Cost :  0.5023115488030209 \n",
            " \n",
            " \n",
            "[ 6.93011536e-01  2.65992114e-01  6.99198384e-01 -1.09865542e+00\n",
            " -3.96585086e-01 -5.54401842e-01  2.44884836e-02 -1.80693148e-01\n",
            " -1.92223573e-01 -4.25645926e-02 -8.22642053e-01 -3.88139184e-02\n",
            " -3.26279260e-01 -1.15940771e-01 -5.59375097e-01 -1.51752579e-01\n",
            " -1.12818190e-01 -4.98610812e-02 -1.38112994e-01 -1.42477396e-01\n",
            " -2.39445191e-01 -5.92299053e-01  2.26446130e-04 -1.63710564e-01\n",
            " -3.14740070e-03 -1.72330621e-01 -5.85670264e-02 -4.80852538e-01\n",
            " -2.10470433e-01 -6.15929094e-02 -3.69568103e-02 -6.03282521e-02\n",
            " -2.81467843e-02 -9.37280532e-02 -8.90312685e-02 -2.96428598e-01\n",
            " -4.41978602e-01  5.20500360e-03 -8.98470174e-02  5.96188970e-05\n",
            " -7.04676111e-02  1.38939949e-04 -1.05977602e-01 -3.50759809e-02\n",
            " -4.17905608e-01 -2.20090190e-01 -3.61848476e-02 -2.85225243e-02\n",
            " -2.61594811e-02 -1.61638291e-02 -3.57192625e-02 -1.24746820e-02\n",
            " -6.69052611e-02 -5.50388469e-02 -3.13367823e-01 -3.44132463e-01\n",
            "  2.90944270e-03 -5.39118228e-02  3.08840016e-04 -3.24988250e-02\n",
            " -1.05826908e-03 -3.80977344e-02  2.05712739e-03 -7.20884277e-02\n",
            " -2.28905009e-02 -3.78151597e-01] \n",
            "\n",
            "Cost :  0.5443671132003474 \n",
            " \n",
            " \n",
            "[ 2.26885516e-01  9.03895228e-03  2.04243827e-01 -3.82074291e-01\n",
            " -1.16875784e-01 -1.91644053e-01 -4.44127866e-02 -5.48529957e-02\n",
            " -6.45282408e-02 -4.65915267e-02 -2.94257753e-01 -1.35591134e-02\n",
            " -1.07155275e-01 -3.19179388e-02 -2.10056056e-01 -8.75520193e-02\n",
            " -3.52453289e-02 -2.12418483e-02 -4.49930061e-02 -4.23230032e-02\n",
            " -1.17551424e-01 -2.18124585e-01 -2.02656567e-03 -5.45803590e-02\n",
            " -1.54740176e-03 -5.77482710e-02 -1.44208060e-02 -1.93846637e-01\n",
            " -9.92051801e-02 -2.02768450e-02 -1.53444744e-02 -1.92445013e-02\n",
            " -1.02153761e-02 -3.26452555e-02 -2.43795204e-02 -1.40463397e-01\n",
            " -1.67932399e-01 -5.16350604e-04 -3.05023091e-02 -6.16014316e-04\n",
            " -2.34362516e-02 -1.43262489e-04 -3.70554044e-02 -7.30783761e-03\n",
            " -1.79250778e-01 -9.83492402e-02 -1.28846937e-02 -1.14511890e-02\n",
            " -8.40301119e-03 -6.14064210e-03 -1.19303541e-02 -4.22154555e-03\n",
            " -2.47771376e-02 -1.36683737e-02 -1.49515193e-01 -1.35250288e-01\n",
            " -1.23514489e-03 -1.86277497e-02 -3.55476384e-04 -1.09030966e-02\n",
            " -6.68922178e-04 -1.29391336e-02  6.92635772e-04 -2.65426438e-02\n",
            " -3.76309199e-03 -1.70957360e-01] \n",
            "\n",
            "Cost :  0.6387974814768757 \n",
            " \n",
            " \n",
            "[ 3.13573825e-02 -2.44184671e-02  2.82952940e-02 -9.86417962e-02\n",
            " -2.59040744e-02 -5.80814710e-02 -2.84957339e-02 -1.34000917e-02\n",
            " -1.66298718e-02 -2.86892520e-02 -7.82563270e-02 -4.17186371e-03\n",
            " -2.57859555e-02 -7.00489926e-03 -6.49091205e-02 -3.45862743e-02\n",
            " -8.54559802e-03 -6.40174525e-03 -1.11511929e-02 -9.71962772e-03\n",
            " -4.63789780e-02 -6.08516377e-02 -1.61228514e-03 -1.30782683e-02\n",
            " -6.73328829e-04 -1.43223012e-02 -3.12150731e-03 -6.37421752e-02\n",
            " -3.56175287e-02 -5.32402175e-03 -4.47331826e-03 -4.51214692e-03\n",
            " -2.73791554e-03 -8.61661053e-03 -5.41357040e-03 -5.35625173e-02\n",
            " -4.95837190e-02 -1.25638046e-03 -7.41479361e-03 -3.59768684e-04\n",
            " -5.62511994e-03 -2.00241301e-04 -9.69291939e-03 -1.61743847e-03\n",
            " -6.30326958e-02 -3.48740777e-02 -3.81008874e-03 -3.25987940e-03\n",
            " -1.96963065e-03 -1.65411057e-03 -2.91925478e-03 -1.11805472e-03\n",
            " -6.96678815e-03 -3.07808623e-03 -5.80808237e-02 -4.25419316e-02\n",
            " -1.43147170e-03 -4.61647975e-03 -2.26371859e-04 -2.61767089e-03\n",
            " -2.55894772e-04 -3.18689167e-03  5.71696308e-05 -7.39564127e-03\n",
            " -9.73964759e-04 -6.41222614e-02] \n",
            "\n",
            "Cost :  0.6755354734963757 \n",
            " \n",
            " \n"
          ]
        },
        {
          "output_type": "display_data",
          "data": {
            "text/plain": [
              "<Figure size 864x720 with 4 Axes>"
            ],
            "image/png": "[encoded data removed]"
          },
          "metadata": {
            "needs_background": "light"
          }
        }
      ]
    },
    {
      "cell_type": "code",
      "source": [],
      "metadata": {
        "id": "9ri6lTSDCqP-"
      },
      "execution_count": 32,
      "outputs": []
    }
  ]
}